{
  "cells": [
    {
      "cell_type": "code",
      "source": [
        "x = input(\"please enter your old:\")\n",
        "print(x)\n"
      ],
      "metadata": {
        "colab": {
          "base_uri": "https://localhost:8080/"
        },
        "id": "tpCPzxzfRcMW",
        "outputId": "711a0504-d54d-487e-bdfa-b4059dc7db7d"
      },
      "execution_count": null,
      "outputs": [
        {
          "name": "stdout",
          "output_type": "stream",
          "text": [
            "please enter your old:25\n"
          ]
        }
      ]
    },
    {
      "cell_type": "code",
      "source": [
        "x = 6\n",
        "y = 976.045\n",
        "z = 1j\n",
        "print(x)\n",
        "print(y)\n",
        "print(z)"
      ],
      "metadata": {
        "colab": {
          "base_uri": "https://localhost:8080/"
        },
        "id": "ODIhoKBMp3Yh",
        "outputId": "5f1b0b02-3f28-428b-924d-d0310cc14741"
      },
      "execution_count": 8,
      "outputs": [
        {
          "output_type": "stream",
          "name": "stdout",
          "text": [
            "6\n",
            "976.045\n",
            "1j\n"
          ]
        }
      ]
    },
    {
      "cell_type": "code",
      "source": [
        "x = 567\n",
        "y = 97.764\n",
        "z = 3j\n",
        "type(x, y, z)"
      ],
      "metadata": {
        "colab": {
          "base_uri": "https://localhost:8080/",
          "height": 202
        },
        "id": "cDg2JoEqsrVF",
        "outputId": "af3e83c8-c268-40ce-8208-f1668a3580ed"
      },
      "execution_count": 11,
      "outputs": [
        {
          "output_type": "error",
          "ename": "TypeError",
          "evalue": "ignored",
          "traceback": [
            "\u001b[0;31m---------------------------------------------------------------------------\u001b[0m",
            "\u001b[0;31mTypeError\u001b[0m                                 Traceback (most recent call last)",
            "\u001b[0;32m<ipython-input-11-570b201bdae6>\u001b[0m in \u001b[0;36m<module>\u001b[0;34m\u001b[0m\n\u001b[1;32m      2\u001b[0m \u001b[0my\u001b[0m \u001b[0;34m=\u001b[0m \u001b[0;36m97.764\u001b[0m\u001b[0;34m\u001b[0m\u001b[0;34m\u001b[0m\u001b[0m\n\u001b[1;32m      3\u001b[0m \u001b[0mz\u001b[0m \u001b[0;34m=\u001b[0m \u001b[0;36m3j\u001b[0m\u001b[0;34m\u001b[0m\u001b[0;34m\u001b[0m\u001b[0m\n\u001b[0;32m----> 4\u001b[0;31m \u001b[0mtype\u001b[0m\u001b[0;34m(\u001b[0m\u001b[0mx\u001b[0m\u001b[0;34m,\u001b[0m \u001b[0my\u001b[0m\u001b[0;34m,\u001b[0m \u001b[0mz\u001b[0m\u001b[0;34m)\u001b[0m\u001b[0;34m\u001b[0m\u001b[0;34m\u001b[0m\u001b[0m\n\u001b[0m",
            "\u001b[0;31mTypeError\u001b[0m: type.__new__() argument 1 must be str, not int"
          ]
        }
      ]
    },
    {
      "cell_type": "code",
      "source": [
        "dict = {\"name\":\"alita\",\"old\":2,\"country\":\"taiwan\"}\n",
        "print(dict)"
      ],
      "metadata": {
        "colab": {
          "base_uri": "https://localhost:8080/"
        },
        "id": "pHFeqgF-s6GL",
        "outputId": "019a5e88-fa2f-44cf-ac67-b752142900e0"
      },
      "execution_count": 31,
      "outputs": [
        {
          "output_type": "stream",
          "name": "stdout",
          "text": [
            "{'name': 'alita', 'old': 2, 'country': 'taiwan'}\n"
          ]
        }
      ]
    },
    {
      "cell_type": "code",
      "source": [
        "mylist =[\"book\",\"pen\",\"money\",986]\n",
        "print(mylist)\n",
        "type(mylist)"
      ],
      "metadata": {
        "colab": {
          "base_uri": "https://localhost:8080/"
        },
        "id": "JEhio91nvPWS",
        "outputId": "6117a4e1-1f41-4da3-f273-e0be5c53a0ad"
      },
      "execution_count": 34,
      "outputs": [
        {
          "output_type": "stream",
          "name": "stdout",
          "text": [
            "['book', 'pen', 'money', 986]\n"
          ]
        },
        {
          "output_type": "execute_result",
          "data": {
            "text/plain": [
              "list"
            ]
          },
          "metadata": {},
          "execution_count": 34
        }
      ]
    },
    {
      "cell_type": "code",
      "source": [
        "mytuple = (\"cat\",\"dog\",\"fish\")\n",
        "print(mytuple)\n",
        "type(mytuple)"
      ],
      "metadata": {
        "colab": {
          "base_uri": "https://localhost:8080/"
        },
        "id": "NQEQ38tSv5Wr",
        "outputId": "385d0547-624a-49ff-fa8a-27df95fc113d"
      },
      "execution_count": 36,
      "outputs": [
        {
          "output_type": "stream",
          "name": "stdout",
          "text": [
            "('cat', 'dog', 'fish')\n"
          ]
        },
        {
          "output_type": "execute_result",
          "data": {
            "text/plain": [
              "tuple"
            ]
          },
          "metadata": {},
          "execution_count": 36
        }
      ]
    },
    {
      "cell_type": "code",
      "source": [
        "mytuple = \"cat\",\"dog\",\"fish\"\n",
        "print(mytuple)\n",
        "a, b, c = mytuple\n",
        "print(a)\n",
        "print(b)\n",
        "print(c)\n",
        "type(mytuple)"
      ],
      "metadata": {
        "colab": {
          "base_uri": "https://localhost:8080/"
        },
        "id": "wtzdl9eFxg2p",
        "outputId": "7443d579-e2d0-412e-c97b-6073de26eb47"
      },
      "execution_count": 47,
      "outputs": [
        {
          "output_type": "stream",
          "name": "stdout",
          "text": [
            "('cat', 'dog', 'fish')\n",
            "cat\n",
            "dog\n",
            "fish\n"
          ]
        },
        {
          "output_type": "execute_result",
          "data": {
            "text/plain": [
              "tuple"
            ]
          },
          "metadata": {},
          "execution_count": 47
        }
      ]
    },
    {
      "cell_type": "code",
      "source": [
        "x = int(214.76)\n",
        "y = float(234)\n",
        "print(x)\n",
        "print(y)"
      ],
      "metadata": {
        "colab": {
          "base_uri": "https://localhost:8080/"
        },
        "id": "bt1yMMasx_jc",
        "outputId": "e17f73e0-6db8-441e-d2c4-7e70ecce9501"
      },
      "execution_count": 49,
      "outputs": [
        {
          "output_type": "stream",
          "name": "stdout",
          "text": [
            "214\n",
            "234.0\n"
          ]
        }
      ]
    },
    {
      "cell_type": "code",
      "source": [
        "x = \"hello, this is 4110e115 Pan Huang Ru from Kunshan university\n",
        "nice to meet you guy\"\n",
        "print(x)"
      ],
      "metadata": {
        "colab": {
          "base_uri": "https://localhost:8080/",
          "height": 132
        },
        "id": "errYE8CByZlr",
        "outputId": "fbbf180e-88ce-4e8b-b128-589da1c7f992"
      },
      "execution_count": 50,
      "outputs": [
        {
          "output_type": "error",
          "ename": "SyntaxError",
          "evalue": "ignored",
          "traceback": [
            "\u001b[0;36m  File \u001b[0;32m\"<ipython-input-50-c48dc8a33c54>\"\u001b[0;36m, line \u001b[0;32m1\u001b[0m\n\u001b[0;31m    x = \"hello, this is 4110e115 Pan Huang Ru from Kunshan university\u001b[0m\n\u001b[0m                                                                     ^\u001b[0m\n\u001b[0;31mSyntaxError\u001b[0m\u001b[0;31m:\u001b[0m EOL while scanning string literal\n"
          ]
        }
      ]
    },
    {
      "cell_type": "code",
      "source": [
        "x = '''hello, this is 4110e115 Pan Huang Ru from Kunshan university\n",
        "nice to meet you guy'''\n",
        "print(x)"
      ],
      "metadata": {
        "colab": {
          "base_uri": "https://localhost:8080/"
        },
        "id": "Oq0F32lRy2Ks",
        "outputId": "22dcc671-d26e-44d0-8e09-2d45f31384bb"
      },
      "execution_count": 51,
      "outputs": [
        {
          "output_type": "stream",
          "name": "stdout",
          "text": [
            "hello, this is 4110e115 Pan Huang Ru from Kunshan university\n",
            "nice to meet you guy\n"
          ]
        }
      ]
    },
    {
      "cell_type": "code",
      "source": [
        "x = \"Pan Huang Ru\"\n",
        "print(x[0:12])\n",
        "print(x[-12:-1])\n",
        "print(x[-12:])\n",
        "print(x[-8:-4])"
      ],
      "metadata": {
        "colab": {
          "base_uri": "https://localhost:8080/"
        },
        "id": "TYukDWPBzC-u",
        "outputId": "2a6ef4b3-27e0-4c4d-db24-6904bc433205"
      },
      "execution_count": 61,
      "outputs": [
        {
          "output_type": "stream",
          "name": "stdout",
          "text": [
            "Pan Huang Ru\n",
            "Pan Huang R\n",
            "Pan Huang Ru\n",
            "Huan\n"
          ]
        }
      ]
    },
    {
      "cell_type": "code",
      "source": [
        "x = \"pan huang ru\"\n",
        "print(x.upper())\n",
        "y = \"PAN HUANG RU\"\n",
        "print(y.lower())"
      ],
      "metadata": {
        "colab": {
          "base_uri": "https://localhost:8080/"
        },
        "id": "NuE0Ij3B0Kn8",
        "outputId": "ae33c4fb-55a9-4674-f2b7-73aa185aff01"
      },
      "execution_count": 66,
      "outputs": [
        {
          "output_type": "stream",
          "name": "stdout",
          "text": [
            "PAN HUANG RU\n",
            "pan huang ru\n"
          ]
        }
      ]
    },
    {
      "cell_type": "code",
      "source": [
        "x = \"   Pan Huang Ru   \"\n",
        "y = \"   Pan Huang Ru    \"\n",
        "print(x.strip())\n",
        "print(y)"
      ],
      "metadata": {
        "colab": {
          "base_uri": "https://localhost:8080/"
        },
        "id": "ADOflO-L0zOv",
        "outputId": "771d3fcc-53c0-480f-d62c-2e8642dbea36"
      },
      "execution_count": 73,
      "outputs": [
        {
          "output_type": "stream",
          "name": "stdout",
          "text": [
            "Pan Huang Ru\n",
            "   Pan Huang Ru    \n"
          ]
        }
      ]
    },
    {
      "cell_type": "code",
      "source": [
        "x = \"Pan\"\n",
        "y = \"Huang\"\n",
        "z = \"ru\"\n",
        "print(x+y+z)\n",
        "print(x+\" \"+y+\" \"+z)"
      ],
      "metadata": {
        "colab": {
          "base_uri": "https://localhost:8080/"
        },
        "id": "9HNj-HwS1V3J",
        "outputId": "0801a475-4383-4c90-c757-32b73422196b"
      },
      "execution_count": 80,
      "outputs": [
        {
          "output_type": "stream",
          "name": "stdout",
          "text": [
            "PanHuangru\n",
            "Pan Huang ru\n"
          ]
        }
      ]
    },
    {
      "cell_type": "code",
      "source": [
        "x = int(input(\"enter your old:\"))\n",
        "if x > 25:\n",
        " print(\"older\")\n",
        "elif x == 25:\n",
        " print(\"equal\")\n",
        "else:\n",
        " print(\"younger\")"
      ],
      "metadata": {
        "colab": {
          "base_uri": "https://localhost:8080/"
        },
        "id": "HXmeRl_L2A3t",
        "outputId": "4f3b9d78-87d9-4036-9679-1f4d58203b73"
      },
      "execution_count": 88,
      "outputs": [
        {
          "output_type": "stream",
          "name": "stdout",
          "text": [
            "enter your old:25\n",
            "equal\n"
          ]
        }
      ]
    },
    {
      "cell_type": "code",
      "source": [
        "x = \"beautiful\\n\"\n",
        "n = 6\n",
        "print(x*n)"
      ],
      "metadata": {
        "colab": {
          "base_uri": "https://localhost:8080/"
        },
        "id": "3iurRkl63WYb",
        "outputId": "95d60eab-76d7-4098-8548-c1e15dda834e"
      },
      "execution_count": 92,
      "outputs": [
        {
          "output_type": "stream",
          "name": "stdout",
          "text": [
            "beautiful\n",
            "beautiful\n",
            "beautiful\n",
            "beautiful\n",
            "beautiful\n",
            "beautiful\n",
            "\n"
          ]
        }
      ]
    },
    {
      "cell_type": "code",
      "source": [
        "x = 8\n",
        "y = 3\n",
        "print(x/y)\n",
        "print(x//y)"
      ],
      "metadata": {
        "colab": {
          "base_uri": "https://localhost:8080/"
        },
        "id": "oJQQQib-3387",
        "outputId": "e8c240da-d78b-4bbc-8f68-94c931704c3b"
      },
      "execution_count": 94,
      "outputs": [
        {
          "output_type": "stream",
          "name": "stdout",
          "text": [
            "2.6666666666666665\n",
            "2\n"
          ]
        }
      ]
    },
    {
      "cell_type": "code",
      "source": [
        "x = 8\n",
        "y = 3\n",
        "print(x/y)\n",
        "print(x%y)\n",
        "print(x+y)\n",
        "print(x*y)\n",
        "print(x-y)\n"
      ],
      "metadata": {
        "colab": {
          "base_uri": "https://localhost:8080/"
        },
        "id": "snULStxd5bUh",
        "outputId": "8163ebf3-fccc-4d90-d465-959c0f55362d"
      },
      "execution_count": 98,
      "outputs": [
        {
          "output_type": "stream",
          "name": "stdout",
          "text": [
            "2.6666666666666665\n",
            "2\n",
            "11\n",
            "24\n",
            "5\n"
          ]
        }
      ]
    },
    {
      "cell_type": "code",
      "source": [
        "mylist = [\"house\",\"car\",\"money\"]\n",
        "for x in mylist:\n",
        " print(x)\n",
        "for y in \"money\":\n",
        " print(y)\n"
      ],
      "metadata": {
        "colab": {
          "base_uri": "https://localhost:8080/"
        },
        "id": "C1x_lAdq9mrv",
        "outputId": "6f1a0739-ab73-49db-86e2-3ec47ea27cbd"
      },
      "execution_count": 119,
      "outputs": [
        {
          "output_type": "stream",
          "name": "stdout",
          "text": [
            "house\n",
            "car\n",
            "money\n",
            "m\n",
            "o\n",
            "n\n",
            "e\n",
            "y\n"
          ]
        }
      ]
    },
    {
      "cell_type": "code",
      "source": [
        "mylist = [\"house\",\"car\",\"money\"]\n",
        "for x in mylist:\n",
        "  print(x)\n",
        "  if x == \"car\":\n",
        "    break"
      ],
      "metadata": {
        "colab": {
          "base_uri": "https://localhost:8080/"
        },
        "id": "alXuriH8-yqg",
        "outputId": "f548daef-7605-492f-fb4c-7b5c808aa665"
      },
      "execution_count": 132,
      "outputs": [
        {
          "output_type": "stream",
          "name": "stdout",
          "text": [
            "house\n",
            "car\n"
          ]
        }
      ]
    },
    {
      "cell_type": "code",
      "source": [
        "mylist = [\"house\",\"car\",\"money\"]\n",
        "for x in mylist:\n",
        "  print(x)\n",
        "  if x == \"house\":\n",
        "    continue"
      ],
      "metadata": {
        "colab": {
          "base_uri": "https://localhost:8080/"
        },
        "id": "CVBZ3_QE_1-i",
        "outputId": "3a1d1994-24c1-466c-bd94-1cf802fbb9b4"
      },
      "execution_count": 136,
      "outputs": [
        {
          "output_type": "stream",
          "name": "stdout",
          "text": [
            "house\n",
            "car\n",
            "money\n"
          ]
        }
      ]
    },
    {
      "cell_type": "code",
      "source": [
        "for x in range(2, 10, 1):\n",
        "  print(x)\n",
        "for y in range(2, 10, 2):\n",
        "  print(y)"
      ],
      "metadata": {
        "colab": {
          "base_uri": "https://localhost:8080/"
        },
        "id": "MLHilBL-AR7C",
        "outputId": "ffe9177d-2c27-4b34-d6ed-3e9fc5731cea"
      },
      "execution_count": 145,
      "outputs": [
        {
          "output_type": "stream",
          "name": "stdout",
          "text": [
            "2\n",
            "3\n",
            "4\n",
            "5\n",
            "6\n",
            "7\n",
            "8\n",
            "9\n",
            "2\n",
            "4\n",
            "6\n",
            "8\n"
          ]
        }
      ]
    },
    {
      "cell_type": "code",
      "source": [
        "for x in range(3):\n",
        "  print(x)\n",
        "else:\n",
        "  print(\"donedone\")\n"
      ],
      "metadata": {
        "colab": {
          "base_uri": "https://localhost:8080/"
        },
        "id": "GYNZ68rRA7rb",
        "outputId": "203892b2-5edd-40ca-8f07-894a44182dbd"
      },
      "execution_count": 146,
      "outputs": [
        {
          "output_type": "stream",
          "name": "stdout",
          "text": [
            "0\n",
            "1\n",
            "2\n",
            "donedone\n"
          ]
        }
      ]
    },
    {
      "cell_type": "code",
      "source": [
        "x = 1\n",
        "while x < 5:\n",
        "  print(x)\n",
        "  x += 1"
      ],
      "metadata": {
        "colab": {
          "base_uri": "https://localhost:8080/"
        },
        "id": "QXi2UdFJ_jOH",
        "outputId": "ffe4bf72-4c0d-442e-d900-25fe4ba8b5ea"
      },
      "execution_count": 154,
      "outputs": [
        {
          "output_type": "stream",
          "name": "stdout",
          "text": [
            "1\n",
            "2\n",
            "3\n",
            "4\n"
          ]
        }
      ]
    }
  ],
  "metadata": {
    "colab": {
      "collapsed_sections": [],
      "provenance": []
    },
    "kernelspec": {
      "display_name": "Python 3",
      "name": "python3"
    }
  },
  "nbformat": 4,
  "nbformat_minor": 0
}